{
 "cells": [
  {
   "cell_type": "code",
   "execution_count": 3,
   "metadata": {},
   "outputs": [
    {
     "name": "stdout",
     "output_type": "stream",
     "text": [
      "Ziyaret ediliyor : Arad\n",
      "Ziyaret ediliyor : Zerind\n",
      "Ziyaret ediliyor : Timisoara\n",
      "Ziyaret ediliyor : Sibiu\n",
      "Ziyaret ediliyor : Oradea\n",
      "Ziyaret ediliyor : Lugoj\n",
      "Ziyaret ediliyor : Fagaras\n",
      "Ziyaret ediliyor : Rimnicu Vilcea\n",
      "Ziyaret ediliyor : Mehadia\n",
      "Ziyaret ediliyor : Bucharest\n",
      "Hedefe ulasildi: Arad->Sibiu->Fagaras->Bucharest\n"
     ]
    },
    {
     "data": {
      "text/plain": [
       "['Arad', 'Sibiu', 'Fagaras', 'Bucharest']"
      ]
     },
     "execution_count": 3,
     "metadata": {},
     "output_type": "execute_result"
    }
   ],
   "source": [
    "romania_map = {\n",
    "    'Arad': {'Zerind': 75, 'Timisoara': 118, 'Sibiu': 140},\n",
    "    'Zerind': {'Arad': 75, 'Oradea': 71},\n",
    "    'Oradea': {'Zerind': 71, 'Sibiu': 151},\n",
    "    'Sibiu': {'Arad': 140, 'Oradea': 151, 'Fagaras': 99, 'Rimnicu Vilcea': 80},\n",
    "    'Fagaras': {'Sibiu': 99, 'Bucharest': 211},\n",
    "    'Rimnicu Vilcea': {'Sibiu': 80, 'Pitesti': 97, 'Craiova': 146},\n",
    "    'Pitesti': {'Rimnicu Vilcea': 97, 'Bucharest': 101},\n",
    "    'Craiova': {'Rimnicu Vilcea': 146, 'Drobeta': 120, 'Pitesti': 138},\n",
    "    'Timisoara': {'Arad': 118, 'Lugoj': 111},\n",
    "    'Lugoj': {'Timisoara': 111, 'Mehadia': 70},\n",
    "    'Mehadia': {'Lugoj': 70, 'Drobeta': 75},\n",
    "    'Drobeta': {'Mehadia': 75, 'Craiova': 120},\n",
    "    'Bucharest': {'Fagaras': 211, 'Pitesti': 101}\n",
    "}"
   ]
  },
  {
   "cell_type": "code",
   "execution_count": 7,
   "metadata": {},
   "outputs": [
    {
     "name": "stdout",
     "output_type": "stream",
     "text": [
      "Ziyaret Ediliyor : Arad | Bedeli : 0\n",
      "Ziyaret Ediliyor : Zerind | Bedeli : 75\n",
      "Ziyaret Ediliyor : Timisoara | Bedeli : 118\n",
      "Ziyaret Ediliyor : Sibiu | Bedeli : 140\n",
      "Ziyaret Ediliyor : Oradea | Bedeli : 146\n",
      "Ziyaret Ediliyor : Rimnicu Vilcea | Bedeli : 220\n",
      "Ziyaret Ediliyor : Lugoj | Bedeli : 229\n",
      "Ziyaret Ediliyor : Fagaras | Bedeli : 239\n",
      "Ziyaret Ediliyor : Mehadia | Bedeli : 299\n",
      "Ziyaret Ediliyor : Pitesti | Bedeli : 317\n",
      "Ziyaret Ediliyor : Craiova | Bedeli : 366\n",
      "Ziyaret Ediliyor : Drobeta | Bedeli : 374\n",
      "Ziyaret Ediliyor : Bucharest | Bedeli : 418\n",
      "Bucharest Ulasildi. Kullanilan Yol : ['Arad', 'Sibiu', 'Rimnicu Vilcea', 'Pitesti', 'Bucharest']\n"
     ]
    }
   ],
   "source": [
    "from collections import deque\n",
    "\n",
    "def bfs(graph,start,goal):\n",
    "    queue = deque([[0,start,[start]]]) #Maliyet, Sehir\n",
    "    visited = set()\n",
    "    \n",
    "\n",
    "    while queue:\n",
    "        queue = deque(sorted(queue,key = lambda item: item[0]))\n",
    "\n",
    "        cost,node,path= queue.popleft()\n",
    "\n",
    "        if node in visited:\n",
    "            continue\n",
    "        \n",
    "        print(f\"Ziyaret Ediliyor : {node} | Bedeli : {cost}\")\n",
    "        visited.add(node)\n",
    "\n",
    "        if node == goal:\n",
    "            print(f\"{goal} Ulasildi. Kullanilan Yol : {path}\")\n",
    "        \n",
    "        for neighbor,distance in graph[node].items():\n",
    "            if neighbor not in visited:\n",
    "                total_cost = cost + distance\n",
    "                new_path = path + [neighbor]\n",
    "                queue.append((total_cost,neighbor,new_path))\n",
    "\n",
    "\n",
    "bfs(romania_map,'Arad','Bucharest')"
   ]
  }
 ],
 "metadata": {
  "kernelspec": {
   "display_name": "sakademi",
   "language": "python",
   "name": "python3"
  },
  "language_info": {
   "codemirror_mode": {
    "name": "ipython",
    "version": 3
   },
   "file_extension": ".py",
   "mimetype": "text/x-python",
   "name": "python",
   "nbconvert_exporter": "python",
   "pygments_lexer": "ipython3",
   "version": "3.13.1"
  }
 },
 "nbformat": 4,
 "nbformat_minor": 2
}
